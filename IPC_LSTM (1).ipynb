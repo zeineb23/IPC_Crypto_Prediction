{
  "nbformat": 4,
  "nbformat_minor": 0,
  "metadata": {
    "colab": {
      "provenance": []
    },
    "kernelspec": {
      "name": "python3",
      "display_name": "Python 3"
    },
    "language_info": {
      "name": "python"
    }
  },
  "cells": [
    {
      "cell_type": "code",
      "execution_count": 1,
      "metadata": {
        "id": "9eAskG-tFwfY"
      },
      "outputs": [],
      "source": [
        "import math\n",
        "import yfinance as yf\n",
        "import numpy as np\n",
        "import pandas as pd\n",
        "from datetime import datetime\n",
        "import matplotlib.pyplot as plt\n",
        "from sklearn.preprocessing import MinMaxScaler\n",
        "from keras.models import Sequential\n",
        "from keras.layers import Dense, LSTM, GRU"
      ]
    },
    {
      "cell_type": "code",
      "source": [
        "end_date = datetime.now().strftime('%Y-%m-%d')\n",
        "ydata=yf.download('ICP-USD',\n",
        "                      start='2020-01-01',\n",
        "                      end=end_date,\n",
        "                      progress=False)\n",
        "ydata.head()"
      ],
      "metadata": {
        "colab": {
          "base_uri": "https://localhost:8080/",
          "height": 237
        },
        "id": "FCs7ELItF01e",
        "outputId": "b5495cf7-d68c-42d8-c2b9-25894b9cd4ff"
      },
      "execution_count": 2,
      "outputs": [
        {
          "output_type": "execute_result",
          "data": {
            "text/plain": [
              "                  Open        High         Low       Close   Adj Close  \\\n",
              "Date                                                                     \n",
              "2021-05-10    0.000000  750.730469    0.000000  428.362305  428.362305   \n",
              "2021-05-11  428.484161  580.378479  346.179901  364.789978  364.789978   \n",
              "2021-05-12  366.946564  387.595184  255.494247  255.494247  255.494247   \n",
              "2021-05-13  255.637650  344.925629  252.070862  300.020386  300.020386   \n",
              "2021-05-14  301.248505  340.414673  292.912170  304.185181  304.185181   \n",
              "\n",
              "                Volume  \n",
              "Date                    \n",
              "2021-05-10   290834080  \n",
              "2021-05-11  1667242972  \n",
              "2021-05-12  1029335147  \n",
              "2021-05-13   886643614  \n",
              "2021-05-14   471523354  "
            ],
            "text/html": [
              "\n",
              "  <div id=\"df-720b1249-c835-4b3d-b1a9-371a5c7f97ee\" class=\"colab-df-container\">\n",
              "    <div>\n",
              "<style scoped>\n",
              "    .dataframe tbody tr th:only-of-type {\n",
              "        vertical-align: middle;\n",
              "    }\n",
              "\n",
              "    .dataframe tbody tr th {\n",
              "        vertical-align: top;\n",
              "    }\n",
              "\n",
              "    .dataframe thead th {\n",
              "        text-align: right;\n",
              "    }\n",
              "</style>\n",
              "<table border=\"1\" class=\"dataframe\">\n",
              "  <thead>\n",
              "    <tr style=\"text-align: right;\">\n",
              "      <th></th>\n",
              "      <th>Open</th>\n",
              "      <th>High</th>\n",
              "      <th>Low</th>\n",
              "      <th>Close</th>\n",
              "      <th>Adj Close</th>\n",
              "      <th>Volume</th>\n",
              "    </tr>\n",
              "    <tr>\n",
              "      <th>Date</th>\n",
              "      <th></th>\n",
              "      <th></th>\n",
              "      <th></th>\n",
              "      <th></th>\n",
              "      <th></th>\n",
              "      <th></th>\n",
              "    </tr>\n",
              "  </thead>\n",
              "  <tbody>\n",
              "    <tr>\n",
              "      <th>2021-05-10</th>\n",
              "      <td>0.000000</td>\n",
              "      <td>750.730469</td>\n",
              "      <td>0.000000</td>\n",
              "      <td>428.362305</td>\n",
              "      <td>428.362305</td>\n",
              "      <td>290834080</td>\n",
              "    </tr>\n",
              "    <tr>\n",
              "      <th>2021-05-11</th>\n",
              "      <td>428.484161</td>\n",
              "      <td>580.378479</td>\n",
              "      <td>346.179901</td>\n",
              "      <td>364.789978</td>\n",
              "      <td>364.789978</td>\n",
              "      <td>1667242972</td>\n",
              "    </tr>\n",
              "    <tr>\n",
              "      <th>2021-05-12</th>\n",
              "      <td>366.946564</td>\n",
              "      <td>387.595184</td>\n",
              "      <td>255.494247</td>\n",
              "      <td>255.494247</td>\n",
              "      <td>255.494247</td>\n",
              "      <td>1029335147</td>\n",
              "    </tr>\n",
              "    <tr>\n",
              "      <th>2021-05-13</th>\n",
              "      <td>255.637650</td>\n",
              "      <td>344.925629</td>\n",
              "      <td>252.070862</td>\n",
              "      <td>300.020386</td>\n",
              "      <td>300.020386</td>\n",
              "      <td>886643614</td>\n",
              "    </tr>\n",
              "    <tr>\n",
              "      <th>2021-05-14</th>\n",
              "      <td>301.248505</td>\n",
              "      <td>340.414673</td>\n",
              "      <td>292.912170</td>\n",
              "      <td>304.185181</td>\n",
              "      <td>304.185181</td>\n",
              "      <td>471523354</td>\n",
              "    </tr>\n",
              "  </tbody>\n",
              "</table>\n",
              "</div>\n",
              "    <div class=\"colab-df-buttons\">\n",
              "\n",
              "  <div class=\"colab-df-container\">\n",
              "    <button class=\"colab-df-convert\" onclick=\"convertToInteractive('df-720b1249-c835-4b3d-b1a9-371a5c7f97ee')\"\n",
              "            title=\"Convert this dataframe to an interactive table.\"\n",
              "            style=\"display:none;\">\n",
              "\n",
              "  <svg xmlns=\"http://www.w3.org/2000/svg\" height=\"24px\" viewBox=\"0 -960 960 960\">\n",
              "    <path d=\"M120-120v-720h720v720H120Zm60-500h600v-160H180v160Zm220 220h160v-160H400v160Zm0 220h160v-160H400v160ZM180-400h160v-160H180v160Zm440 0h160v-160H620v160ZM180-180h160v-160H180v160Zm440 0h160v-160H620v160Z\"/>\n",
              "  </svg>\n",
              "    </button>\n",
              "\n",
              "  <style>\n",
              "    .colab-df-container {\n",
              "      display:flex;\n",
              "      gap: 12px;\n",
              "    }\n",
              "\n",
              "    .colab-df-convert {\n",
              "      background-color: #E8F0FE;\n",
              "      border: none;\n",
              "      border-radius: 50%;\n",
              "      cursor: pointer;\n",
              "      display: none;\n",
              "      fill: #1967D2;\n",
              "      height: 32px;\n",
              "      padding: 0 0 0 0;\n",
              "      width: 32px;\n",
              "    }\n",
              "\n",
              "    .colab-df-convert:hover {\n",
              "      background-color: #E2EBFA;\n",
              "      box-shadow: 0px 1px 2px rgba(60, 64, 67, 0.3), 0px 1px 3px 1px rgba(60, 64, 67, 0.15);\n",
              "      fill: #174EA6;\n",
              "    }\n",
              "\n",
              "    .colab-df-buttons div {\n",
              "      margin-bottom: 4px;\n",
              "    }\n",
              "\n",
              "    [theme=dark] .colab-df-convert {\n",
              "      background-color: #3B4455;\n",
              "      fill: #D2E3FC;\n",
              "    }\n",
              "\n",
              "    [theme=dark] .colab-df-convert:hover {\n",
              "      background-color: #434B5C;\n",
              "      box-shadow: 0px 1px 3px 1px rgba(0, 0, 0, 0.15);\n",
              "      filter: drop-shadow(0px 1px 2px rgba(0, 0, 0, 0.3));\n",
              "      fill: #FFFFFF;\n",
              "    }\n",
              "  </style>\n",
              "\n",
              "    <script>\n",
              "      const buttonEl =\n",
              "        document.querySelector('#df-720b1249-c835-4b3d-b1a9-371a5c7f97ee button.colab-df-convert');\n",
              "      buttonEl.style.display =\n",
              "        google.colab.kernel.accessAllowed ? 'block' : 'none';\n",
              "\n",
              "      async function convertToInteractive(key) {\n",
              "        const element = document.querySelector('#df-720b1249-c835-4b3d-b1a9-371a5c7f97ee');\n",
              "        const dataTable =\n",
              "          await google.colab.kernel.invokeFunction('convertToInteractive',\n",
              "                                                    [key], {});\n",
              "        if (!dataTable) return;\n",
              "\n",
              "        const docLinkHtml = 'Like what you see? Visit the ' +\n",
              "          '<a target=\"_blank\" href=https://colab.research.google.com/notebooks/data_table.ipynb>data table notebook</a>'\n",
              "          + ' to learn more about interactive tables.';\n",
              "        element.innerHTML = '';\n",
              "        dataTable['output_type'] = 'display_data';\n",
              "        await google.colab.output.renderOutput(dataTable, element);\n",
              "        const docLink = document.createElement('div');\n",
              "        docLink.innerHTML = docLinkHtml;\n",
              "        element.appendChild(docLink);\n",
              "      }\n",
              "    </script>\n",
              "  </div>\n",
              "\n",
              "\n",
              "<div id=\"df-b71be4f7-dda7-4581-b1e5-3ebafd4a9936\">\n",
              "  <button class=\"colab-df-quickchart\" onclick=\"quickchart('df-b71be4f7-dda7-4581-b1e5-3ebafd4a9936')\"\n",
              "            title=\"Suggest charts\"\n",
              "            style=\"display:none;\">\n",
              "\n",
              "<svg xmlns=\"http://www.w3.org/2000/svg\" height=\"24px\"viewBox=\"0 0 24 24\"\n",
              "     width=\"24px\">\n",
              "    <g>\n",
              "        <path d=\"M19 3H5c-1.1 0-2 .9-2 2v14c0 1.1.9 2 2 2h14c1.1 0 2-.9 2-2V5c0-1.1-.9-2-2-2zM9 17H7v-7h2v7zm4 0h-2V7h2v10zm4 0h-2v-4h2v4z\"/>\n",
              "    </g>\n",
              "</svg>\n",
              "  </button>\n",
              "\n",
              "<style>\n",
              "  .colab-df-quickchart {\n",
              "      --bg-color: #E8F0FE;\n",
              "      --fill-color: #1967D2;\n",
              "      --hover-bg-color: #E2EBFA;\n",
              "      --hover-fill-color: #174EA6;\n",
              "      --disabled-fill-color: #AAA;\n",
              "      --disabled-bg-color: #DDD;\n",
              "  }\n",
              "\n",
              "  [theme=dark] .colab-df-quickchart {\n",
              "      --bg-color: #3B4455;\n",
              "      --fill-color: #D2E3FC;\n",
              "      --hover-bg-color: #434B5C;\n",
              "      --hover-fill-color: #FFFFFF;\n",
              "      --disabled-bg-color: #3B4455;\n",
              "      --disabled-fill-color: #666;\n",
              "  }\n",
              "\n",
              "  .colab-df-quickchart {\n",
              "    background-color: var(--bg-color);\n",
              "    border: none;\n",
              "    border-radius: 50%;\n",
              "    cursor: pointer;\n",
              "    display: none;\n",
              "    fill: var(--fill-color);\n",
              "    height: 32px;\n",
              "    padding: 0;\n",
              "    width: 32px;\n",
              "  }\n",
              "\n",
              "  .colab-df-quickchart:hover {\n",
              "    background-color: var(--hover-bg-color);\n",
              "    box-shadow: 0 1px 2px rgba(60, 64, 67, 0.3), 0 1px 3px 1px rgba(60, 64, 67, 0.15);\n",
              "    fill: var(--button-hover-fill-color);\n",
              "  }\n",
              "\n",
              "  .colab-df-quickchart-complete:disabled,\n",
              "  .colab-df-quickchart-complete:disabled:hover {\n",
              "    background-color: var(--disabled-bg-color);\n",
              "    fill: var(--disabled-fill-color);\n",
              "    box-shadow: none;\n",
              "  }\n",
              "\n",
              "  .colab-df-spinner {\n",
              "    border: 2px solid var(--fill-color);\n",
              "    border-color: transparent;\n",
              "    border-bottom-color: var(--fill-color);\n",
              "    animation:\n",
              "      spin 1s steps(1) infinite;\n",
              "  }\n",
              "\n",
              "  @keyframes spin {\n",
              "    0% {\n",
              "      border-color: transparent;\n",
              "      border-bottom-color: var(--fill-color);\n",
              "      border-left-color: var(--fill-color);\n",
              "    }\n",
              "    20% {\n",
              "      border-color: transparent;\n",
              "      border-left-color: var(--fill-color);\n",
              "      border-top-color: var(--fill-color);\n",
              "    }\n",
              "    30% {\n",
              "      border-color: transparent;\n",
              "      border-left-color: var(--fill-color);\n",
              "      border-top-color: var(--fill-color);\n",
              "      border-right-color: var(--fill-color);\n",
              "    }\n",
              "    40% {\n",
              "      border-color: transparent;\n",
              "      border-right-color: var(--fill-color);\n",
              "      border-top-color: var(--fill-color);\n",
              "    }\n",
              "    60% {\n",
              "      border-color: transparent;\n",
              "      border-right-color: var(--fill-color);\n",
              "    }\n",
              "    80% {\n",
              "      border-color: transparent;\n",
              "      border-right-color: var(--fill-color);\n",
              "      border-bottom-color: var(--fill-color);\n",
              "    }\n",
              "    90% {\n",
              "      border-color: transparent;\n",
              "      border-bottom-color: var(--fill-color);\n",
              "    }\n",
              "  }\n",
              "</style>\n",
              "\n",
              "  <script>\n",
              "    async function quickchart(key) {\n",
              "      const quickchartButtonEl =\n",
              "        document.querySelector('#' + key + ' button');\n",
              "      quickchartButtonEl.disabled = true;  // To prevent multiple clicks.\n",
              "      quickchartButtonEl.classList.add('colab-df-spinner');\n",
              "      try {\n",
              "        const charts = await google.colab.kernel.invokeFunction(\n",
              "            'suggestCharts', [key], {});\n",
              "      } catch (error) {\n",
              "        console.error('Error during call to suggestCharts:', error);\n",
              "      }\n",
              "      quickchartButtonEl.classList.remove('colab-df-spinner');\n",
              "      quickchartButtonEl.classList.add('colab-df-quickchart-complete');\n",
              "    }\n",
              "    (() => {\n",
              "      let quickchartButtonEl =\n",
              "        document.querySelector('#df-b71be4f7-dda7-4581-b1e5-3ebafd4a9936 button');\n",
              "      quickchartButtonEl.style.display =\n",
              "        google.colab.kernel.accessAllowed ? 'block' : 'none';\n",
              "    })();\n",
              "  </script>\n",
              "</div>\n",
              "    </div>\n",
              "  </div>\n"
            ],
            "application/vnd.google.colaboratory.intrinsic+json": {
              "type": "dataframe",
              "variable_name": "ydata",
              "summary": "{\n  \"name\": \"ydata\",\n  \"rows\": 1051,\n  \"fields\": [\n    {\n      \"column\": \"Date\",\n      \"properties\": {\n        \"dtype\": \"date\",\n        \"min\": \"2021-05-10 00:00:00\",\n        \"max\": \"2024-03-25 00:00:00\",\n        \"num_unique_values\": 1051,\n        \"samples\": [\n          \"2022-04-27 00:00:00\",\n          \"2023-03-30 00:00:00\",\n          \"2022-09-07 00:00:00\"\n        ],\n        \"semantic_type\": \"\",\n        \"description\": \"\"\n      }\n    },\n    {\n      \"column\": \"Open\",\n      \"properties\": {\n        \"dtype\": \"number\",\n        \"std\": 33.679148698540985,\n        \"min\": 0.0,\n        \"max\": 428.4841613769531,\n        \"num_unique_values\": 1051,\n        \"samples\": [\n          14.996003150939941,\n          5.14872407913208,\n          6.218191146850586\n        ],\n        \"semantic_type\": \"\",\n        \"description\": \"\"\n      }\n    },\n    {\n      \"column\": \"High\",\n      \"properties\": {\n        \"dtype\": \"number\",\n        \"std\": 44.493557538244815,\n        \"min\": 2.9363760948181152,\n        \"max\": 750.73046875,\n        \"num_unique_values\": 1051,\n        \"samples\": [\n          15.570050239562988,\n          5.189918041229248,\n          6.506228923797607\n        ],\n        \"semantic_type\": \"\",\n        \"description\": \"\"\n      }\n    },\n    {\n      \"column\": \"Low\",\n      \"properties\": {\n        \"dtype\": \"number\",\n        \"std\": 28.97460573057343,\n        \"min\": 0.0,\n        \"max\": 346.1799011230469,\n        \"num_unique_values\": 1051,\n        \"samples\": [\n          14.806963920593262,\n          4.924264907836914,\n          6.078144073486328\n        ],\n        \"semantic_type\": \"\",\n        \"description\": \"\"\n      }\n    },\n    {\n      \"column\": \"Close\",\n      \"properties\": {\n        \"dtype\": \"number\",\n        \"std\": 33.65706497020816,\n        \"min\": 2.9009060859680176,\n        \"max\": 428.3623046875,\n        \"num_unique_values\": 1051,\n        \"samples\": [\n          15.302101135253906,\n          5.016857147216797,\n          6.475299835205078\n        ],\n        \"semantic_type\": \"\",\n        \"description\": \"\"\n      }\n    },\n    {\n      \"column\": \"Adj Close\",\n      \"properties\": {\n        \"dtype\": \"number\",\n        \"std\": 33.65706497020816,\n        \"min\": 2.9009060859680176,\n        \"max\": 428.3623046875,\n        \"num_unique_values\": 1051,\n        \"samples\": [\n          15.302101135253906,\n          5.016857147216797,\n          6.475299835205078\n        ],\n        \"semantic_type\": \"\",\n        \"description\": \"\"\n      }\n    },\n    {\n      \"column\": \"Volume\",\n      \"properties\": {\n        \"dtype\": \"number\",\n        \"std\": 222058334,\n        \"min\": 7166726,\n        \"max\": 1766366511,\n        \"num_unique_values\": 1051,\n        \"samples\": [\n          146394183,\n          31293253,\n          49333766\n        ],\n        \"semantic_type\": \"\",\n        \"description\": \"\"\n      }\n    }\n  ]\n}"
            }
          },
          "metadata": {},
          "execution_count": 2
        }
      ]
    },
    {
      "cell_type": "code",
      "source": [
        "ydata.tail()"
      ],
      "metadata": {
        "colab": {
          "base_uri": "https://localhost:8080/",
          "height": 237
        },
        "id": "3VYUMTsSGtYD",
        "outputId": "19e0a9a4-da1b-4a1c-dd5b-b8db95e6e7f8"
      },
      "execution_count": 3,
      "outputs": [
        {
          "output_type": "execute_result",
          "data": {
            "text/plain": [
              "                 Open       High        Low      Close  Adj Close     Volume\n",
              "Date                                                                        \n",
              "2024-03-21  11.919709  13.045290  11.652168  12.739736  12.739736  210631221\n",
              "2024-03-22  12.739736  13.915852  12.511797  13.352368  13.352368  334814404\n",
              "2024-03-23  13.352368  13.851908  12.860712  13.474428  13.474428  173711397\n",
              "2024-03-24  13.474428  15.287743  13.474428  15.133993  15.133993  303048638\n",
              "2024-03-25  15.133993  17.854778  15.122786  17.638607  17.638607  605684938"
            ],
            "text/html": [
              "\n",
              "  <div id=\"df-c326cf5b-9c80-40cc-be45-e7f394a13ec3\" class=\"colab-df-container\">\n",
              "    <div>\n",
              "<style scoped>\n",
              "    .dataframe tbody tr th:only-of-type {\n",
              "        vertical-align: middle;\n",
              "    }\n",
              "\n",
              "    .dataframe tbody tr th {\n",
              "        vertical-align: top;\n",
              "    }\n",
              "\n",
              "    .dataframe thead th {\n",
              "        text-align: right;\n",
              "    }\n",
              "</style>\n",
              "<table border=\"1\" class=\"dataframe\">\n",
              "  <thead>\n",
              "    <tr style=\"text-align: right;\">\n",
              "      <th></th>\n",
              "      <th>Open</th>\n",
              "      <th>High</th>\n",
              "      <th>Low</th>\n",
              "      <th>Close</th>\n",
              "      <th>Adj Close</th>\n",
              "      <th>Volume</th>\n",
              "    </tr>\n",
              "    <tr>\n",
              "      <th>Date</th>\n",
              "      <th></th>\n",
              "      <th></th>\n",
              "      <th></th>\n",
              "      <th></th>\n",
              "      <th></th>\n",
              "      <th></th>\n",
              "    </tr>\n",
              "  </thead>\n",
              "  <tbody>\n",
              "    <tr>\n",
              "      <th>2024-03-21</th>\n",
              "      <td>11.919709</td>\n",
              "      <td>13.045290</td>\n",
              "      <td>11.652168</td>\n",
              "      <td>12.739736</td>\n",
              "      <td>12.739736</td>\n",
              "      <td>210631221</td>\n",
              "    </tr>\n",
              "    <tr>\n",
              "      <th>2024-03-22</th>\n",
              "      <td>12.739736</td>\n",
              "      <td>13.915852</td>\n",
              "      <td>12.511797</td>\n",
              "      <td>13.352368</td>\n",
              "      <td>13.352368</td>\n",
              "      <td>334814404</td>\n",
              "    </tr>\n",
              "    <tr>\n",
              "      <th>2024-03-23</th>\n",
              "      <td>13.352368</td>\n",
              "      <td>13.851908</td>\n",
              "      <td>12.860712</td>\n",
              "      <td>13.474428</td>\n",
              "      <td>13.474428</td>\n",
              "      <td>173711397</td>\n",
              "    </tr>\n",
              "    <tr>\n",
              "      <th>2024-03-24</th>\n",
              "      <td>13.474428</td>\n",
              "      <td>15.287743</td>\n",
              "      <td>13.474428</td>\n",
              "      <td>15.133993</td>\n",
              "      <td>15.133993</td>\n",
              "      <td>303048638</td>\n",
              "    </tr>\n",
              "    <tr>\n",
              "      <th>2024-03-25</th>\n",
              "      <td>15.133993</td>\n",
              "      <td>17.854778</td>\n",
              "      <td>15.122786</td>\n",
              "      <td>17.638607</td>\n",
              "      <td>17.638607</td>\n",
              "      <td>605684938</td>\n",
              "    </tr>\n",
              "  </tbody>\n",
              "</table>\n",
              "</div>\n",
              "    <div class=\"colab-df-buttons\">\n",
              "\n",
              "  <div class=\"colab-df-container\">\n",
              "    <button class=\"colab-df-convert\" onclick=\"convertToInteractive('df-c326cf5b-9c80-40cc-be45-e7f394a13ec3')\"\n",
              "            title=\"Convert this dataframe to an interactive table.\"\n",
              "            style=\"display:none;\">\n",
              "\n",
              "  <svg xmlns=\"http://www.w3.org/2000/svg\" height=\"24px\" viewBox=\"0 -960 960 960\">\n",
              "    <path d=\"M120-120v-720h720v720H120Zm60-500h600v-160H180v160Zm220 220h160v-160H400v160Zm0 220h160v-160H400v160ZM180-400h160v-160H180v160Zm440 0h160v-160H620v160ZM180-180h160v-160H180v160Zm440 0h160v-160H620v160Z\"/>\n",
              "  </svg>\n",
              "    </button>\n",
              "\n",
              "  <style>\n",
              "    .colab-df-container {\n",
              "      display:flex;\n",
              "      gap: 12px;\n",
              "    }\n",
              "\n",
              "    .colab-df-convert {\n",
              "      background-color: #E8F0FE;\n",
              "      border: none;\n",
              "      border-radius: 50%;\n",
              "      cursor: pointer;\n",
              "      display: none;\n",
              "      fill: #1967D2;\n",
              "      height: 32px;\n",
              "      padding: 0 0 0 0;\n",
              "      width: 32px;\n",
              "    }\n",
              "\n",
              "    .colab-df-convert:hover {\n",
              "      background-color: #E2EBFA;\n",
              "      box-shadow: 0px 1px 2px rgba(60, 64, 67, 0.3), 0px 1px 3px 1px rgba(60, 64, 67, 0.15);\n",
              "      fill: #174EA6;\n",
              "    }\n",
              "\n",
              "    .colab-df-buttons div {\n",
              "      margin-bottom: 4px;\n",
              "    }\n",
              "\n",
              "    [theme=dark] .colab-df-convert {\n",
              "      background-color: #3B4455;\n",
              "      fill: #D2E3FC;\n",
              "    }\n",
              "\n",
              "    [theme=dark] .colab-df-convert:hover {\n",
              "      background-color: #434B5C;\n",
              "      box-shadow: 0px 1px 3px 1px rgba(0, 0, 0, 0.15);\n",
              "      filter: drop-shadow(0px 1px 2px rgba(0, 0, 0, 0.3));\n",
              "      fill: #FFFFFF;\n",
              "    }\n",
              "  </style>\n",
              "\n",
              "    <script>\n",
              "      const buttonEl =\n",
              "        document.querySelector('#df-c326cf5b-9c80-40cc-be45-e7f394a13ec3 button.colab-df-convert');\n",
              "      buttonEl.style.display =\n",
              "        google.colab.kernel.accessAllowed ? 'block' : 'none';\n",
              "\n",
              "      async function convertToInteractive(key) {\n",
              "        const element = document.querySelector('#df-c326cf5b-9c80-40cc-be45-e7f394a13ec3');\n",
              "        const dataTable =\n",
              "          await google.colab.kernel.invokeFunction('convertToInteractive',\n",
              "                                                    [key], {});\n",
              "        if (!dataTable) return;\n",
              "\n",
              "        const docLinkHtml = 'Like what you see? Visit the ' +\n",
              "          '<a target=\"_blank\" href=https://colab.research.google.com/notebooks/data_table.ipynb>data table notebook</a>'\n",
              "          + ' to learn more about interactive tables.';\n",
              "        element.innerHTML = '';\n",
              "        dataTable['output_type'] = 'display_data';\n",
              "        await google.colab.output.renderOutput(dataTable, element);\n",
              "        const docLink = document.createElement('div');\n",
              "        docLink.innerHTML = docLinkHtml;\n",
              "        element.appendChild(docLink);\n",
              "      }\n",
              "    </script>\n",
              "  </div>\n",
              "\n",
              "\n",
              "<div id=\"df-79728bf7-3116-4e96-9028-fd7b07f3e415\">\n",
              "  <button class=\"colab-df-quickchart\" onclick=\"quickchart('df-79728bf7-3116-4e96-9028-fd7b07f3e415')\"\n",
              "            title=\"Suggest charts\"\n",
              "            style=\"display:none;\">\n",
              "\n",
              "<svg xmlns=\"http://www.w3.org/2000/svg\" height=\"24px\"viewBox=\"0 0 24 24\"\n",
              "     width=\"24px\">\n",
              "    <g>\n",
              "        <path d=\"M19 3H5c-1.1 0-2 .9-2 2v14c0 1.1.9 2 2 2h14c1.1 0 2-.9 2-2V5c0-1.1-.9-2-2-2zM9 17H7v-7h2v7zm4 0h-2V7h2v10zm4 0h-2v-4h2v4z\"/>\n",
              "    </g>\n",
              "</svg>\n",
              "  </button>\n",
              "\n",
              "<style>\n",
              "  .colab-df-quickchart {\n",
              "      --bg-color: #E8F0FE;\n",
              "      --fill-color: #1967D2;\n",
              "      --hover-bg-color: #E2EBFA;\n",
              "      --hover-fill-color: #174EA6;\n",
              "      --disabled-fill-color: #AAA;\n",
              "      --disabled-bg-color: #DDD;\n",
              "  }\n",
              "\n",
              "  [theme=dark] .colab-df-quickchart {\n",
              "      --bg-color: #3B4455;\n",
              "      --fill-color: #D2E3FC;\n",
              "      --hover-bg-color: #434B5C;\n",
              "      --hover-fill-color: #FFFFFF;\n",
              "      --disabled-bg-color: #3B4455;\n",
              "      --disabled-fill-color: #666;\n",
              "  }\n",
              "\n",
              "  .colab-df-quickchart {\n",
              "    background-color: var(--bg-color);\n",
              "    border: none;\n",
              "    border-radius: 50%;\n",
              "    cursor: pointer;\n",
              "    display: none;\n",
              "    fill: var(--fill-color);\n",
              "    height: 32px;\n",
              "    padding: 0;\n",
              "    width: 32px;\n",
              "  }\n",
              "\n",
              "  .colab-df-quickchart:hover {\n",
              "    background-color: var(--hover-bg-color);\n",
              "    box-shadow: 0 1px 2px rgba(60, 64, 67, 0.3), 0 1px 3px 1px rgba(60, 64, 67, 0.15);\n",
              "    fill: var(--button-hover-fill-color);\n",
              "  }\n",
              "\n",
              "  .colab-df-quickchart-complete:disabled,\n",
              "  .colab-df-quickchart-complete:disabled:hover {\n",
              "    background-color: var(--disabled-bg-color);\n",
              "    fill: var(--disabled-fill-color);\n",
              "    box-shadow: none;\n",
              "  }\n",
              "\n",
              "  .colab-df-spinner {\n",
              "    border: 2px solid var(--fill-color);\n",
              "    border-color: transparent;\n",
              "    border-bottom-color: var(--fill-color);\n",
              "    animation:\n",
              "      spin 1s steps(1) infinite;\n",
              "  }\n",
              "\n",
              "  @keyframes spin {\n",
              "    0% {\n",
              "      border-color: transparent;\n",
              "      border-bottom-color: var(--fill-color);\n",
              "      border-left-color: var(--fill-color);\n",
              "    }\n",
              "    20% {\n",
              "      border-color: transparent;\n",
              "      border-left-color: var(--fill-color);\n",
              "      border-top-color: var(--fill-color);\n",
              "    }\n",
              "    30% {\n",
              "      border-color: transparent;\n",
              "      border-left-color: var(--fill-color);\n",
              "      border-top-color: var(--fill-color);\n",
              "      border-right-color: var(--fill-color);\n",
              "    }\n",
              "    40% {\n",
              "      border-color: transparent;\n",
              "      border-right-color: var(--fill-color);\n",
              "      border-top-color: var(--fill-color);\n",
              "    }\n",
              "    60% {\n",
              "      border-color: transparent;\n",
              "      border-right-color: var(--fill-color);\n",
              "    }\n",
              "    80% {\n",
              "      border-color: transparent;\n",
              "      border-right-color: var(--fill-color);\n",
              "      border-bottom-color: var(--fill-color);\n",
              "    }\n",
              "    90% {\n",
              "      border-color: transparent;\n",
              "      border-bottom-color: var(--fill-color);\n",
              "    }\n",
              "  }\n",
              "</style>\n",
              "\n",
              "  <script>\n",
              "    async function quickchart(key) {\n",
              "      const quickchartButtonEl =\n",
              "        document.querySelector('#' + key + ' button');\n",
              "      quickchartButtonEl.disabled = true;  // To prevent multiple clicks.\n",
              "      quickchartButtonEl.classList.add('colab-df-spinner');\n",
              "      try {\n",
              "        const charts = await google.colab.kernel.invokeFunction(\n",
              "            'suggestCharts', [key], {});\n",
              "      } catch (error) {\n",
              "        console.error('Error during call to suggestCharts:', error);\n",
              "      }\n",
              "      quickchartButtonEl.classList.remove('colab-df-spinner');\n",
              "      quickchartButtonEl.classList.add('colab-df-quickchart-complete');\n",
              "    }\n",
              "    (() => {\n",
              "      let quickchartButtonEl =\n",
              "        document.querySelector('#df-79728bf7-3116-4e96-9028-fd7b07f3e415 button');\n",
              "      quickchartButtonEl.style.display =\n",
              "        google.colab.kernel.accessAllowed ? 'block' : 'none';\n",
              "    })();\n",
              "  </script>\n",
              "</div>\n",
              "    </div>\n",
              "  </div>\n"
            ],
            "application/vnd.google.colaboratory.intrinsic+json": {
              "type": "dataframe",
              "summary": "{\n  \"name\": \"ydata\",\n  \"rows\": 5,\n  \"fields\": [\n    {\n      \"column\": \"Date\",\n      \"properties\": {\n        \"dtype\": \"date\",\n        \"min\": \"2024-03-21 00:00:00\",\n        \"max\": \"2024-03-25 00:00:00\",\n        \"num_unique_values\": 5,\n        \"samples\": [\n          \"2024-03-22 00:00:00\",\n          \"2024-03-25 00:00:00\",\n          \"2024-03-23 00:00:00\"\n        ],\n        \"semantic_type\": \"\",\n        \"description\": \"\"\n      }\n    },\n    {\n      \"column\": \"Open\",\n      \"properties\": {\n        \"dtype\": \"number\",\n        \"std\": 1.1845786284630238,\n        \"min\": 11.919709205627441,\n        \"max\": 15.133993148803711,\n        \"num_unique_values\": 5,\n        \"samples\": [\n          12.73973560333252,\n          15.133993148803711,\n          13.352368354797363\n        ],\n        \"semantic_type\": \"\",\n        \"description\": \"\"\n      }\n    },\n    {\n      \"column\": \"High\",\n      \"properties\": {\n        \"dtype\": \"number\",\n        \"std\": 1.8926682899057525,\n        \"min\": 13.045289993286133,\n        \"max\": 17.854778289794922,\n        \"num_unique_values\": 5,\n        \"samples\": [\n          13.915851593017578,\n          17.854778289794922,\n          13.851907730102539\n        ],\n        \"semantic_type\": \"\",\n        \"description\": \"\"\n      }\n    },\n    {\n      \"column\": \"Low\",\n      \"properties\": {\n        \"dtype\": \"number\",\n        \"std\": 1.296952648167857,\n        \"min\": 11.652168273925781,\n        \"max\": 15.122785568237305,\n        \"num_unique_values\": 5,\n        \"samples\": [\n          12.511796951293945,\n          15.122785568237305,\n          12.860712051391602\n        ],\n        \"semantic_type\": \"\",\n        \"description\": \"\"\n      }\n    },\n    {\n      \"column\": \"Close\",\n      \"properties\": {\n        \"dtype\": \"number\",\n        \"std\": 1.9821082457731944,\n        \"min\": 12.73973560333252,\n        \"max\": 17.638607025146484,\n        \"num_unique_values\": 5,\n        \"samples\": [\n          13.352368354797363,\n          17.638607025146484,\n          13.474428176879883\n        ],\n        \"semantic_type\": \"\",\n        \"description\": \"\"\n      }\n    },\n    {\n      \"column\": \"Adj Close\",\n      \"properties\": {\n        \"dtype\": \"number\",\n        \"std\": 1.9821082457731944,\n        \"min\": 12.73973560333252,\n        \"max\": 17.638607025146484,\n        \"num_unique_values\": 5,\n        \"samples\": [\n          13.352368354797363,\n          17.638607025146484,\n          13.474428176879883\n        ],\n        \"semantic_type\": \"\",\n        \"description\": \"\"\n      }\n    },\n    {\n      \"column\": \"Volume\",\n      \"properties\": {\n        \"dtype\": \"number\",\n        \"std\": 169800623,\n        \"min\": 173711397,\n        \"max\": 605684938,\n        \"num_unique_values\": 5,\n        \"samples\": [\n          334814404,\n          605684938,\n          173711397\n        ],\n        \"semantic_type\": \"\",\n        \"description\": \"\"\n      }\n    }\n  ]\n}"
            }
          },
          "metadata": {},
          "execution_count": 3
        }
      ]
    },
    {
      "cell_type": "code",
      "source": [
        "ydata.shape"
      ],
      "metadata": {
        "colab": {
          "base_uri": "https://localhost:8080/"
        },
        "id": "SR45uMsZG03T",
        "outputId": "5cde121a-27f6-4438-ec45-8c8aa6572b79"
      },
      "execution_count": 4,
      "outputs": [
        {
          "output_type": "execute_result",
          "data": {
            "text/plain": [
              "(1051, 6)"
            ]
          },
          "metadata": {},
          "execution_count": 4
        }
      ]
    },
    {
      "cell_type": "code",
      "source": [
        "ydata.describe()"
      ],
      "metadata": {
        "colab": {
          "base_uri": "https://localhost:8080/",
          "height": 300
        },
        "id": "iRee1D7SHPfn",
        "outputId": "55474d3a-7706-4c35-f486-2f4fadff5264"
      },
      "execution_count": 5,
      "outputs": [
        {
          "output_type": "execute_result",
          "data": {
            "text/plain": [
              "              Open         High          Low        Close    Adj Close  \\\n",
              "count  1051.000000  1051.000000  1051.000000  1051.000000  1051.000000   \n",
              "mean     20.385423    22.518699    18.868997    20.401117    20.401117   \n",
              "std      33.679149    44.493558    28.974606    33.657065    33.657065   \n",
              "min       0.000000     2.936376     0.000000     2.900906     2.900906   \n",
              "25%       4.832937     4.992912     4.686186     4.835214     4.835214   \n",
              "50%       7.068614     7.410904     6.756664     7.099750     7.099750   \n",
              "75%      22.202521    23.298703    21.380943    22.210181    22.210181   \n",
              "max     428.484161   750.730469   346.179901   428.362305   428.362305   \n",
              "\n",
              "             Volume  \n",
              "count  1.051000e+03  \n",
              "mean   1.763831e+08  \n",
              "std    2.220583e+08  \n",
              "min    7.166726e+06  \n",
              "25%    3.394357e+07  \n",
              "50%    9.434260e+07  \n",
              "75%    2.433495e+08  \n",
              "max    1.766367e+09  "
            ],
            "text/html": [
              "\n",
              "  <div id=\"df-3e25e12e-c82e-4622-89ca-e5551d9ec446\" class=\"colab-df-container\">\n",
              "    <div>\n",
              "<style scoped>\n",
              "    .dataframe tbody tr th:only-of-type {\n",
              "        vertical-align: middle;\n",
              "    }\n",
              "\n",
              "    .dataframe tbody tr th {\n",
              "        vertical-align: top;\n",
              "    }\n",
              "\n",
              "    .dataframe thead th {\n",
              "        text-align: right;\n",
              "    }\n",
              "</style>\n",
              "<table border=\"1\" class=\"dataframe\">\n",
              "  <thead>\n",
              "    <tr style=\"text-align: right;\">\n",
              "      <th></th>\n",
              "      <th>Open</th>\n",
              "      <th>High</th>\n",
              "      <th>Low</th>\n",
              "      <th>Close</th>\n",
              "      <th>Adj Close</th>\n",
              "      <th>Volume</th>\n",
              "    </tr>\n",
              "  </thead>\n",
              "  <tbody>\n",
              "    <tr>\n",
              "      <th>count</th>\n",
              "      <td>1051.000000</td>\n",
              "      <td>1051.000000</td>\n",
              "      <td>1051.000000</td>\n",
              "      <td>1051.000000</td>\n",
              "      <td>1051.000000</td>\n",
              "      <td>1.051000e+03</td>\n",
              "    </tr>\n",
              "    <tr>\n",
              "      <th>mean</th>\n",
              "      <td>20.385423</td>\n",
              "      <td>22.518699</td>\n",
              "      <td>18.868997</td>\n",
              "      <td>20.401117</td>\n",
              "      <td>20.401117</td>\n",
              "      <td>1.763831e+08</td>\n",
              "    </tr>\n",
              "    <tr>\n",
              "      <th>std</th>\n",
              "      <td>33.679149</td>\n",
              "      <td>44.493558</td>\n",
              "      <td>28.974606</td>\n",
              "      <td>33.657065</td>\n",
              "      <td>33.657065</td>\n",
              "      <td>2.220583e+08</td>\n",
              "    </tr>\n",
              "    <tr>\n",
              "      <th>min</th>\n",
              "      <td>0.000000</td>\n",
              "      <td>2.936376</td>\n",
              "      <td>0.000000</td>\n",
              "      <td>2.900906</td>\n",
              "      <td>2.900906</td>\n",
              "      <td>7.166726e+06</td>\n",
              "    </tr>\n",
              "    <tr>\n",
              "      <th>25%</th>\n",
              "      <td>4.832937</td>\n",
              "      <td>4.992912</td>\n",
              "      <td>4.686186</td>\n",
              "      <td>4.835214</td>\n",
              "      <td>4.835214</td>\n",
              "      <td>3.394357e+07</td>\n",
              "    </tr>\n",
              "    <tr>\n",
              "      <th>50%</th>\n",
              "      <td>7.068614</td>\n",
              "      <td>7.410904</td>\n",
              "      <td>6.756664</td>\n",
              "      <td>7.099750</td>\n",
              "      <td>7.099750</td>\n",
              "      <td>9.434260e+07</td>\n",
              "    </tr>\n",
              "    <tr>\n",
              "      <th>75%</th>\n",
              "      <td>22.202521</td>\n",
              "      <td>23.298703</td>\n",
              "      <td>21.380943</td>\n",
              "      <td>22.210181</td>\n",
              "      <td>22.210181</td>\n",
              "      <td>2.433495e+08</td>\n",
              "    </tr>\n",
              "    <tr>\n",
              "      <th>max</th>\n",
              "      <td>428.484161</td>\n",
              "      <td>750.730469</td>\n",
              "      <td>346.179901</td>\n",
              "      <td>428.362305</td>\n",
              "      <td>428.362305</td>\n",
              "      <td>1.766367e+09</td>\n",
              "    </tr>\n",
              "  </tbody>\n",
              "</table>\n",
              "</div>\n",
              "    <div class=\"colab-df-buttons\">\n",
              "\n",
              "  <div class=\"colab-df-container\">\n",
              "    <button class=\"colab-df-convert\" onclick=\"convertToInteractive('df-3e25e12e-c82e-4622-89ca-e5551d9ec446')\"\n",
              "            title=\"Convert this dataframe to an interactive table.\"\n",
              "            style=\"display:none;\">\n",
              "\n",
              "  <svg xmlns=\"http://www.w3.org/2000/svg\" height=\"24px\" viewBox=\"0 -960 960 960\">\n",
              "    <path d=\"M120-120v-720h720v720H120Zm60-500h600v-160H180v160Zm220 220h160v-160H400v160Zm0 220h160v-160H400v160ZM180-400h160v-160H180v160Zm440 0h160v-160H620v160ZM180-180h160v-160H180v160Zm440 0h160v-160H620v160Z\"/>\n",
              "  </svg>\n",
              "    </button>\n",
              "\n",
              "  <style>\n",
              "    .colab-df-container {\n",
              "      display:flex;\n",
              "      gap: 12px;\n",
              "    }\n",
              "\n",
              "    .colab-df-convert {\n",
              "      background-color: #E8F0FE;\n",
              "      border: none;\n",
              "      border-radius: 50%;\n",
              "      cursor: pointer;\n",
              "      display: none;\n",
              "      fill: #1967D2;\n",
              "      height: 32px;\n",
              "      padding: 0 0 0 0;\n",
              "      width: 32px;\n",
              "    }\n",
              "\n",
              "    .colab-df-convert:hover {\n",
              "      background-color: #E2EBFA;\n",
              "      box-shadow: 0px 1px 2px rgba(60, 64, 67, 0.3), 0px 1px 3px 1px rgba(60, 64, 67, 0.15);\n",
              "      fill: #174EA6;\n",
              "    }\n",
              "\n",
              "    .colab-df-buttons div {\n",
              "      margin-bottom: 4px;\n",
              "    }\n",
              "\n",
              "    [theme=dark] .colab-df-convert {\n",
              "      background-color: #3B4455;\n",
              "      fill: #D2E3FC;\n",
              "    }\n",
              "\n",
              "    [theme=dark] .colab-df-convert:hover {\n",
              "      background-color: #434B5C;\n",
              "      box-shadow: 0px 1px 3px 1px rgba(0, 0, 0, 0.15);\n",
              "      filter: drop-shadow(0px 1px 2px rgba(0, 0, 0, 0.3));\n",
              "      fill: #FFFFFF;\n",
              "    }\n",
              "  </style>\n",
              "\n",
              "    <script>\n",
              "      const buttonEl =\n",
              "        document.querySelector('#df-3e25e12e-c82e-4622-89ca-e5551d9ec446 button.colab-df-convert');\n",
              "      buttonEl.style.display =\n",
              "        google.colab.kernel.accessAllowed ? 'block' : 'none';\n",
              "\n",
              "      async function convertToInteractive(key) {\n",
              "        const element = document.querySelector('#df-3e25e12e-c82e-4622-89ca-e5551d9ec446');\n",
              "        const dataTable =\n",
              "          await google.colab.kernel.invokeFunction('convertToInteractive',\n",
              "                                                    [key], {});\n",
              "        if (!dataTable) return;\n",
              "\n",
              "        const docLinkHtml = 'Like what you see? Visit the ' +\n",
              "          '<a target=\"_blank\" href=https://colab.research.google.com/notebooks/data_table.ipynb>data table notebook</a>'\n",
              "          + ' to learn more about interactive tables.';\n",
              "        element.innerHTML = '';\n",
              "        dataTable['output_type'] = 'display_data';\n",
              "        await google.colab.output.renderOutput(dataTable, element);\n",
              "        const docLink = document.createElement('div');\n",
              "        docLink.innerHTML = docLinkHtml;\n",
              "        element.appendChild(docLink);\n",
              "      }\n",
              "    </script>\n",
              "  </div>\n",
              "\n",
              "\n",
              "<div id=\"df-37476c64-f88e-46cd-a33b-225ab5d2affb\">\n",
              "  <button class=\"colab-df-quickchart\" onclick=\"quickchart('df-37476c64-f88e-46cd-a33b-225ab5d2affb')\"\n",
              "            title=\"Suggest charts\"\n",
              "            style=\"display:none;\">\n",
              "\n",
              "<svg xmlns=\"http://www.w3.org/2000/svg\" height=\"24px\"viewBox=\"0 0 24 24\"\n",
              "     width=\"24px\">\n",
              "    <g>\n",
              "        <path d=\"M19 3H5c-1.1 0-2 .9-2 2v14c0 1.1.9 2 2 2h14c1.1 0 2-.9 2-2V5c0-1.1-.9-2-2-2zM9 17H7v-7h2v7zm4 0h-2V7h2v10zm4 0h-2v-4h2v4z\"/>\n",
              "    </g>\n",
              "</svg>\n",
              "  </button>\n",
              "\n",
              "<style>\n",
              "  .colab-df-quickchart {\n",
              "      --bg-color: #E8F0FE;\n",
              "      --fill-color: #1967D2;\n",
              "      --hover-bg-color: #E2EBFA;\n",
              "      --hover-fill-color: #174EA6;\n",
              "      --disabled-fill-color: #AAA;\n",
              "      --disabled-bg-color: #DDD;\n",
              "  }\n",
              "\n",
              "  [theme=dark] .colab-df-quickchart {\n",
              "      --bg-color: #3B4455;\n",
              "      --fill-color: #D2E3FC;\n",
              "      --hover-bg-color: #434B5C;\n",
              "      --hover-fill-color: #FFFFFF;\n",
              "      --disabled-bg-color: #3B4455;\n",
              "      --disabled-fill-color: #666;\n",
              "  }\n",
              "\n",
              "  .colab-df-quickchart {\n",
              "    background-color: var(--bg-color);\n",
              "    border: none;\n",
              "    border-radius: 50%;\n",
              "    cursor: pointer;\n",
              "    display: none;\n",
              "    fill: var(--fill-color);\n",
              "    height: 32px;\n",
              "    padding: 0;\n",
              "    width: 32px;\n",
              "  }\n",
              "\n",
              "  .colab-df-quickchart:hover {\n",
              "    background-color: var(--hover-bg-color);\n",
              "    box-shadow: 0 1px 2px rgba(60, 64, 67, 0.3), 0 1px 3px 1px rgba(60, 64, 67, 0.15);\n",
              "    fill: var(--button-hover-fill-color);\n",
              "  }\n",
              "\n",
              "  .colab-df-quickchart-complete:disabled,\n",
              "  .colab-df-quickchart-complete:disabled:hover {\n",
              "    background-color: var(--disabled-bg-color);\n",
              "    fill: var(--disabled-fill-color);\n",
              "    box-shadow: none;\n",
              "  }\n",
              "\n",
              "  .colab-df-spinner {\n",
              "    border: 2px solid var(--fill-color);\n",
              "    border-color: transparent;\n",
              "    border-bottom-color: var(--fill-color);\n",
              "    animation:\n",
              "      spin 1s steps(1) infinite;\n",
              "  }\n",
              "\n",
              "  @keyframes spin {\n",
              "    0% {\n",
              "      border-color: transparent;\n",
              "      border-bottom-color: var(--fill-color);\n",
              "      border-left-color: var(--fill-color);\n",
              "    }\n",
              "    20% {\n",
              "      border-color: transparent;\n",
              "      border-left-color: var(--fill-color);\n",
              "      border-top-color: var(--fill-color);\n",
              "    }\n",
              "    30% {\n",
              "      border-color: transparent;\n",
              "      border-left-color: var(--fill-color);\n",
              "      border-top-color: var(--fill-color);\n",
              "      border-right-color: var(--fill-color);\n",
              "    }\n",
              "    40% {\n",
              "      border-color: transparent;\n",
              "      border-right-color: var(--fill-color);\n",
              "      border-top-color: var(--fill-color);\n",
              "    }\n",
              "    60% {\n",
              "      border-color: transparent;\n",
              "      border-right-color: var(--fill-color);\n",
              "    }\n",
              "    80% {\n",
              "      border-color: transparent;\n",
              "      border-right-color: var(--fill-color);\n",
              "      border-bottom-color: var(--fill-color);\n",
              "    }\n",
              "    90% {\n",
              "      border-color: transparent;\n",
              "      border-bottom-color: var(--fill-color);\n",
              "    }\n",
              "  }\n",
              "</style>\n",
              "\n",
              "  <script>\n",
              "    async function quickchart(key) {\n",
              "      const quickchartButtonEl =\n",
              "        document.querySelector('#' + key + ' button');\n",
              "      quickchartButtonEl.disabled = true;  // To prevent multiple clicks.\n",
              "      quickchartButtonEl.classList.add('colab-df-spinner');\n",
              "      try {\n",
              "        const charts = await google.colab.kernel.invokeFunction(\n",
              "            'suggestCharts', [key], {});\n",
              "      } catch (error) {\n",
              "        console.error('Error during call to suggestCharts:', error);\n",
              "      }\n",
              "      quickchartButtonEl.classList.remove('colab-df-spinner');\n",
              "      quickchartButtonEl.classList.add('colab-df-quickchart-complete');\n",
              "    }\n",
              "    (() => {\n",
              "      let quickchartButtonEl =\n",
              "        document.querySelector('#df-37476c64-f88e-46cd-a33b-225ab5d2affb button');\n",
              "      quickchartButtonEl.style.display =\n",
              "        google.colab.kernel.accessAllowed ? 'block' : 'none';\n",
              "    })();\n",
              "  </script>\n",
              "</div>\n",
              "    </div>\n",
              "  </div>\n"
            ],
            "application/vnd.google.colaboratory.intrinsic+json": {
              "type": "dataframe",
              "summary": "{\n  \"name\": \"ydata\",\n  \"rows\": 8,\n  \"fields\": [\n    {\n      \"column\": \"Open\",\n      \"properties\": {\n        \"dtype\": \"number\",\n        \"std\": 374.7616169867974,\n        \"min\": 0.0,\n        \"max\": 1051.0,\n        \"num_unique_values\": 8,\n        \"samples\": [\n          20.385423126728845,\n          7.0686140060424805,\n          1051.0\n        ],\n        \"semantic_type\": \"\",\n        \"description\": \"\"\n      }\n    },\n    {\n      \"column\": \"High\",\n      \"properties\": {\n        \"dtype\": \"number\",\n        \"std\": 416.8850864360302,\n        \"min\": 2.9363760948181152,\n        \"max\": 1051.0,\n        \"num_unique_values\": 8,\n        \"samples\": [\n          22.518698940948575,\n          7.4109039306640625,\n          1051.0\n        ],\n        \"semantic_type\": \"\",\n        \"description\": \"\"\n      }\n    },\n    {\n      \"column\": \"Low\",\n      \"properties\": {\n        \"dtype\": \"number\",\n        \"std\": 369.00595604101073,\n        \"min\": 0.0,\n        \"max\": 1051.0,\n        \"num_unique_values\": 8,\n        \"samples\": [\n          18.868997079321137,\n          6.756663799285889,\n          1051.0\n        ],\n        \"semantic_type\": \"\",\n        \"description\": \"\"\n      }\n    },\n    {\n      \"column\": \"Close\",\n      \"properties\": {\n        \"dtype\": \"number\",\n        \"std\": 374.53287426005477,\n        \"min\": 2.9009060859680176,\n        \"max\": 1051.0,\n        \"num_unique_values\": 8,\n        \"samples\": [\n          20.40111749269756,\n          7.09975004196167,\n          1051.0\n        ],\n        \"semantic_type\": \"\",\n        \"description\": \"\"\n      }\n    },\n    {\n      \"column\": \"Adj Close\",\n      \"properties\": {\n        \"dtype\": \"number\",\n        \"std\": 374.53287426005477,\n        \"min\": 2.9009060859680176,\n        \"max\": 1051.0,\n        \"num_unique_values\": 8,\n        \"samples\": [\n          20.40111749269756,\n          7.09975004196167,\n          1051.0\n        ],\n        \"semantic_type\": \"\",\n        \"description\": \"\"\n      }\n    },\n    {\n      \"column\": \"Volume\",\n      \"properties\": {\n        \"dtype\": \"number\",\n        \"std\": 592940581.1175511,\n        \"min\": 1051.0,\n        \"max\": 1766366511.0,\n        \"num_unique_values\": 8,\n        \"samples\": [\n          176383079.15223595,\n          94342598.0,\n          1051.0\n        ],\n        \"semantic_type\": \"\",\n        \"description\": \"\"\n      }\n    }\n  ]\n}"
            }
          },
          "metadata": {},
          "execution_count": 5
        }
      ]
    },
    {
      "cell_type": "code",
      "source": [
        "plt.figure(figsize=(16,6))\n",
        "plt.title(\"ICP-USD\", fontsize=20)\n",
        "plt.plot(ydata['Close'])\n",
        "plt.xlabel(\"Date\", fontsize=16)\n",
        "plt.ylabel(\"Closing price \", fontsize=16)\n",
        "plt.show()"
      ],
      "metadata": {
        "colab": {
          "base_uri": "https://localhost:8080/",
          "height": 578
        },
        "id": "kdHC9G69HRfI",
        "outputId": "f826974e-887f-4d27-ff5a-0a830db1cacb"
      },
      "execution_count": 6,
      "outputs": [
        {
          "output_type": "display_data",
          "data": {
            "text/plain": [
              "<Figure size 1600x600 with 1 Axes>"
            ],
            "image/png": "[encoded data removed]"
          },
          "metadata": {}
        }
      ]
    },
    {
      "cell_type": "code",
      "source": [
        "close_data= ydata.filter(['Close'])\n",
        "data=close_data.values\n",
        "\n",
        "train_len = math.ceil(len(data) * 0.8)\n",
        "data"
      ],
      "metadata": {
        "id": "6Me1kZZNHtM-",
        "colab": {
          "base_uri": "https://localhost:8080/"
        },
        "outputId": "7012614c-9261-486a-b672-67f89c4787ea"
      },
      "execution_count": 7,
      "outputs": [
        {
          "output_type": "execute_result",
          "data": {
            "text/plain": [
              "array([[428.36230469],\n",
              "       [364.78997803],\n",
              "       [255.49424744],\n",
              "       ...,\n",
              "       [ 13.47442818],\n",
              "       [ 15.13399315],\n",
              "       [ 17.63860703]])"
            ]
          },
          "metadata": {},
          "execution_count": 7
        }
      ]
    },
    {
      "cell_type": "code",
      "source": [
        "scaler = MinMaxScaler(feature_range=(0,1))\n",
        "scaled_data = scaler.fit_transform(data)\n",
        "print(scaled_data.min(), scaled_data.max(), scaled_data.mean())\n",
        "scaled_data"
      ],
      "metadata": {
        "colab": {
          "base_uri": "https://localhost:8080/"
        },
        "id": "U5eA5idgIgJH",
        "outputId": "b06a5713-1b40-4195-bdae-33ea53cea341"
      },
      "execution_count": 8,
      "outputs": [
        {
          "output_type": "stream",
          "name": "stdout",
          "text": [
            "0.0 1.0000000000000002 0.041132312976575\n"
          ]
        },
        {
          "output_type": "execute_result",
          "data": {
            "text/plain": [
              "array([[1.        ],\n",
              "       [0.85058027],\n",
              "       [0.59369273],\n",
              "       ...,\n",
              "       [0.0248519 ],\n",
              "       [0.02875252],\n",
              "       [0.03463934]])"
            ]
          },
          "metadata": {},
          "execution_count": 8
        }
      ]
    },
    {
      "cell_type": "code",
      "source": [
        "train_data = scaled_data[0:train_len, :]\n",
        "x_train = []\n",
        "y_train = []\n",
        "print(len(train_data))"
      ],
      "metadata": {
        "colab": {
          "base_uri": "https://localhost:8080/"
        },
        "id": "93kZOhPETpM8",
        "outputId": "ac00a889-75a7-4d8f-97fc-667f00537076"
      },
      "execution_count": 9,
      "outputs": [
        {
          "output_type": "stream",
          "name": "stdout",
          "text": [
            "841\n"
          ]
        }
      ]
    },
    {
      "cell_type": "code",
      "source": [
        "num_of_days=60\n",
        "for i in range(num_of_days, len(train_data)):\n",
        "  x_train.append(train_data[i-num_of_days:i, 0])\n",
        "  y_train.append(train_data[i,0])\n",
        "  if i<=61:\n",
        "    print(x_train)\n",
        "    print(y_train)\n",
        "    print()"
      ],
      "metadata": {
        "colab": {
          "base_uri": "https://localhost:8080/"
        },
        "id": "06SC_PjZUmQ7",
        "outputId": "732e764d-a42e-491e-c99f-69249bb888d8"
      },
      "execution_count": 10,
      "outputs": [
        {
          "output_type": "stream",
          "name": "stdout",
          "text": [
            "[array([1.        , 0.85058027, 0.59369273, 0.6983465 , 0.70813539,\n",
            "       0.57143336, 0.5222233 , 0.45373611, 0.37949606, 0.2852896 ,\n",
            "       0.38231652, 0.3366971 , 0.33622782, 0.33307501, 0.34141434,\n",
            "       0.30822148, 0.33027334, 0.30062521, 0.26527522, 0.25293921,\n",
            "       0.25490512, 0.26301118, 0.24607   , 0.24574412, 0.28592098,\n",
            "       0.24932689, 0.2393755 , 0.23900879, 0.20730937, 0.18505837,\n",
            "       0.18483449, 0.14969557, 0.13006352, 0.13703797, 0.1449418 ,\n",
            "       0.14838185, 0.14365069, 0.12298389, 0.12012168, 0.10626609,\n",
            "       0.10850883, 0.10414687, 0.07959555, 0.07406741, 0.08074531,\n",
            "       0.07460261, 0.06650797, 0.064393  , 0.0940096 , 0.11116016,\n",
            "       0.12025949, 0.11049212, 0.10092671, 0.0965933 , 0.10790733,\n",
            "       0.10330123, 0.10194888, 0.10176244, 0.0997923 , 0.08783974])]\n",
            "[0.08856801935914393]\n",
            "\n",
            "[array([1.        , 0.85058027, 0.59369273, 0.6983465 , 0.70813539,\n",
            "       0.57143336, 0.5222233 , 0.45373611, 0.37949606, 0.2852896 ,\n",
            "       0.38231652, 0.3366971 , 0.33622782, 0.33307501, 0.34141434,\n",
            "       0.30822148, 0.33027334, 0.30062521, 0.26527522, 0.25293921,\n",
            "       0.25490512, 0.26301118, 0.24607   , 0.24574412, 0.28592098,\n",
            "       0.24932689, 0.2393755 , 0.23900879, 0.20730937, 0.18505837,\n",
            "       0.18483449, 0.14969557, 0.13006352, 0.13703797, 0.1449418 ,\n",
            "       0.14838185, 0.14365069, 0.12298389, 0.12012168, 0.10626609,\n",
            "       0.10850883, 0.10414687, 0.07959555, 0.07406741, 0.08074531,\n",
            "       0.07460261, 0.06650797, 0.064393  , 0.0940096 , 0.11116016,\n",
            "       0.12025949, 0.11049212, 0.10092671, 0.0965933 , 0.10790733,\n",
            "       0.10330123, 0.10194888, 0.10176244, 0.0997923 , 0.08783974]), array([0.85058027, 0.59369273, 0.6983465 , 0.70813539, 0.57143336,\n",
            "       0.5222233 , 0.45373611, 0.37949606, 0.2852896 , 0.38231652,\n",
            "       0.3366971 , 0.33622782, 0.33307501, 0.34141434, 0.30822148,\n",
            "       0.33027334, 0.30062521, 0.26527522, 0.25293921, 0.25490512,\n",
            "       0.26301118, 0.24607   , 0.24574412, 0.28592098, 0.24932689,\n",
            "       0.2393755 , 0.23900879, 0.20730937, 0.18505837, 0.18483449,\n",
            "       0.14969557, 0.13006352, 0.13703797, 0.1449418 , 0.14838185,\n",
            "       0.14365069, 0.12298389, 0.12012168, 0.10626609, 0.10850883,\n",
            "       0.10414687, 0.07959555, 0.07406741, 0.08074531, 0.07460261,\n",
            "       0.06650797, 0.064393  , 0.0940096 , 0.11116016, 0.12025949,\n",
            "       0.11049212, 0.10092671, 0.0965933 , 0.10790733, 0.10330123,\n",
            "       0.10194888, 0.10176244, 0.0997923 , 0.08783974, 0.08856802])]\n",
            "[0.08856801935914393, 0.08393774919320547]\n",
            "\n"
          ]
        }
      ]
    },
    {
      "cell_type": "code",
      "source": [
        "x_train, y_train = np.array(x_train), np.array(y_train)\n",
        "x_train = np.reshape(x_train, (x_train.shape[0], x_train.shape[1], 1))"
      ],
      "metadata": {
        "id": "jXN0XRs8Usy_"
      },
      "execution_count": 56,
      "outputs": []
    },
    {
      "cell_type": "markdown",
      "source": [
        "##First model\n",
        "\n",
        "###Sequential Model:\n",
        "\n",
        "Sequential data processing: The model processes sequential data, such as time series or sequences of text.\n",
        "\n",
        "###Two LSTM Layers with 50 units:\n",
        "Type: Long Short-Term Memory (LSTM) layer\n",
        "Units: 50\n",
        "Output: Returns sequential data (because return_sequences=True)\n",
        "This layer captures complex temporal dependencies in the input data.\n",
        "\n",
        "###Dense Layer with 25 units:\n",
        "Type: Fully connected Dense layer\n",
        "Units: 25\n",
        "Output: Non-sequential data\n",
        "This layer introduces additional complexity and abstraction to the features extracted by the LSTM layer.\n",
        "\n",
        "###Dense Output Layer with 1 unit:\n",
        "Type: Fully connected Dense layer\n",
        "Units: 1\n",
        "Output: Non-sequential data\n",
        "This layer produces the final output."
      ],
      "metadata": {
        "id": "nTIaISO9GksA"
      }
    },
    {
      "cell_type": "code",
      "source": [
        "# Build LSTM model\n",
        "model = Sequential()\n",
        "model.add(LSTM(50, return_sequences=True, input_shape=(x_train.shape[1], 1)))\n",
        "model.add(LSTM(50, return_sequences=False))\n",
        "model.add(Dense(25))\n",
        "model.add(Dense(1))\n",
        "model.summary()"
      ],
      "metadata": {
        "colab": {
          "base_uri": "https://localhost:8080/"
        },
        "id": "kR4kAPuKVi4x",
        "outputId": "a7630653-ff3a-413c-ffe0-c7ac5442925d"
      },
      "execution_count": 65,
      "outputs": [
        {
          "output_type": "stream",
          "name": "stdout",
          "text": [
            "Model: \"sequential_4\"\n",
            "_________________________________________________________________\n",
            " Layer (type)                Output Shape              Param #   \n",
            "=================================================================\n",
            " lstm_6 (LSTM)               (None, 60, 50)            10400     \n",
            "                                                                 \n",
            " lstm_7 (LSTM)               (None, 50)                20200     \n",
            "                                                                 \n",
            " dense_8 (Dense)             (None, 25)                1275      \n",
            "                                                                 \n",
            " dense_9 (Dense)             (None, 1)                 26        \n",
            "                                                                 \n",
            "=================================================================\n",
            "Total params: 31901 (124.61 KB)\n",
            "Trainable params: 31901 (124.61 KB)\n",
            "Non-trainable params: 0 (0.00 Byte)\n",
            "_________________________________________________________________\n"
          ]
        }
      ]
    },
    {
      "cell_type": "code",
      "source": [
        "model.compile(optimizer='adam', loss='mean_squared_error')"
      ],
      "metadata": {
        "id": "NYEStetzVqp_"
      },
      "execution_count": 66,
      "outputs": []
    },
    {
      "cell_type": "code",
      "source": [
        "model.fit(x_train, y_train, batch_size=8, epochs=10)"
      ],
      "metadata": {
        "colab": {
          "base_uri": "https://localhost:8080/"
        },
        "id": "_4GYlSXFVt3U",
        "outputId": "9f986673-80bb-4bba-d9a4-6cebdbb5f165"
      },
      "execution_count": 67,
      "outputs": [
        {
          "output_type": "stream",
          "name": "stdout",
          "text": [
            "Epoch 1/10\n",
            "98/98 [==============================] - 8s 48ms/step - loss: 2.9122e-04\n",
            "Epoch 2/10\n",
            "98/98 [==============================] - 4s 38ms/step - loss: 1.0556e-04\n",
            "Epoch 3/10\n",
            "98/98 [==============================] - 4s 41ms/step - loss: 8.7460e-05\n",
            "Epoch 4/10\n",
            "98/98 [==============================] - 5s 48ms/step - loss: 7.4735e-05\n",
            "Epoch 5/10\n",
            "98/98 [==============================] - 4s 38ms/step - loss: 6.4115e-05\n",
            "Epoch 6/10\n",
            "98/98 [==============================] - 4s 38ms/step - loss: 6.4580e-05\n",
            "Epoch 7/10\n",
            "98/98 [==============================] - 5s 48ms/step - loss: 5.7555e-05\n",
            "Epoch 8/10\n",
            "98/98 [==============================] - 4s 41ms/step - loss: 7.1165e-05\n",
            "Epoch 9/10\n",
            "98/98 [==============================] - 5s 48ms/step - loss: 5.2252e-05\n",
            "Epoch 10/10\n",
            "98/98 [==============================] - 5s 49ms/step - loss: 5.4619e-05\n"
          ]
        },
        {
          "output_type": "execute_result",
          "data": {
            "text/plain": [
              "<keras.src.callbacks.History at 0x7bee974202e0>"
            ]
          },
          "metadata": {},
          "execution_count": 67
        }
      ]
    },
    {
      "cell_type": "code",
      "source": [
        "test_data = scaled_data[train_len-num_of_days:, :]\n",
        "x_test = []\n",
        "y_test = data[train_len:, :]\n",
        "for i in range(num_of_days, len(test_data)):\n",
        "  x_test.append(test_data[i-num_of_days:i, 0])\n",
        "x_test = np.array(x_test)\n",
        "print(x_test.shape)\n",
        "x_test = np.reshape(x_test, (x_test.shape[0], x_test.shape[1], 1))\n",
        "print(x_test.shape)"
      ],
      "metadata": {
        "colab": {
          "base_uri": "https://localhost:8080/"
        },
        "id": "GNuFKeMuVvj1",
        "outputId": "8dd653af-3e7e-4869-a2cd-c2d7664b5231"
      },
      "execution_count": 68,
      "outputs": [
        {
          "output_type": "stream",
          "name": "stdout",
          "text": [
            "(210, 60)\n",
            "(210, 60, 1)\n"
          ]
        }
      ]
    },
    {
      "cell_type": "code",
      "source": [
        "#  predicted price values\n",
        "predictions = model.predict(x_test)\n",
        "predictions = scaler.inverse_transform(predictions)\n",
        "# rmse error\n",
        "rmse = np.sqrt(np.mean(predictions - y_test)**2)\n",
        "rmse"
      ],
      "metadata": {
        "colab": {
          "base_uri": "https://localhost:8080/"
        },
        "id": "Thd0byTVWDI2",
        "outputId": "142a9c48-18ee-4949-88e1-e765b92cf00e"
      },
      "execution_count": 71,
      "outputs": [
        {
          "output_type": "stream",
          "name": "stdout",
          "text": [
            "7/7 [==============================] - 0s 29ms/step\n"
          ]
        },
        {
          "output_type": "execute_result",
          "data": {
            "text/plain": [
              "0.3515430734271095"
            ]
          },
          "metadata": {},
          "execution_count": 71
        }
      ]
    },
    {
      "cell_type": "code",
      "source": [
        "train = close_data[:train_len]\n",
        "valid = close_data[train_len:].copy()\n",
        "valid['Predictions'] = predictions\n"
      ],
      "metadata": {
        "id": "sLpvYiVOSIsA"
      },
      "execution_count": 70,
      "outputs": []
    },
    {
      "cell_type": "code",
      "source": [
        "plt.figure(figsize=(16,8))\n",
        "plt.title('Model')\n",
        "plt.xlabel('Date', fontsize=18)\n",
        "plt.ylabel('Closing price USD ($)', fontsize=18)\n",
        "plt.plot(train['Close'])\n",
        "plt.plot(valid[['Close', 'Predictions']])\n",
        "plt.legend(['Train', 'Val', 'Predictions'], fontsize=12)\n",
        "plt.grid(True)\n",
        "plt.show()"
      ],
      "metadata": {
        "colab": {
          "base_uri": "https://localhost:8080/",
          "height": 728
        },
        "id": "jf0pQXUcWE9t",
        "outputId": "d145cb38-71a7-45c5-aebd-6e085f3078f9"
      },
      "execution_count": 64,
      "outputs": [
        {
          "output_type": "display_data",
          "data": {
            "text/plain": [
              "<Figure size 1600x800 with 1 Axes>"
            ],
            "image/png": "[encoded data removed]"
          },
          "metadata": {}
        }
      ]
    },
    {
      "cell_type": "code",
      "source": [
        "recent_data = scaled_data[-num_of_days:].reshape(1, num_of_days, 1)\n",
        "\n",
        "future_predictions = []\n",
        "\n",
        "next_prediction = model.predict(recent_data)\n",
        "future_predictions = scaler.inverse_transform(next_prediction)\n",
        "future_predictions[0][0]"
      ],
      "metadata": {
        "id": "negn92dUWHjv",
        "colab": {
          "base_uri": "https://localhost:8080/"
        },
        "outputId": "3e326c8c-87f9-4dda-f3a7-8722d565c66f"
      },
      "execution_count": 24,
      "outputs": [
        {
          "output_type": "stream",
          "name": "stdout",
          "text": [
            "1/1 [==============================] - 0s 88ms/step\n"
          ]
        },
        {
          "output_type": "execute_result",
          "data": {
            "text/plain": [
              "13.480733"
            ]
          },
          "metadata": {},
          "execution_count": 24
        }
      ]
    },
    {
      "cell_type": "code",
      "source": [],
      "metadata": {
        "id": "ilzSMjSKVaVc"
      },
      "execution_count": 24,
      "outputs": []
    },
    {
      "cell_type": "markdown",
      "source": [
        "##Second model\n",
        "\n",
        "###Sequential Model:\n",
        "\n",
        "Sequential data processing: The model processes sequential data, such as time series or sequences of text.\n",
        "\n",
        "###One LSTM Layers with 60 units:\n",
        "Type: Long Short-Term Memory (LSTM) layer\n",
        "Units: 50\n",
        "Output: Returns sequential data (because return_sequences=True)\n",
        "This layer captures complex temporal dependencies in the input data.\n",
        "\n",
        "###Dense Layer with 25 units:\n",
        "Type: Fully connected Dense layer\n",
        "Units: 25\n",
        "Output: Non-sequential data\n",
        "This layer introduces additional complexity and abstraction to the features extracted by the LSTM layer.\n",
        "\n",
        "###Dense Output Layer with 1 unit:\n",
        "Type: Fully connected Dense layer\n",
        "Units: 1\n",
        "Output: Non-sequential data\n",
        "This layer produces the final output."
      ],
      "metadata": {
        "id": "IqbKib0jdVgC"
      }
    },
    {
      "cell_type": "code",
      "source": [
        "# Build LSTM model\n",
        "model = Sequential()\n",
        "model.add(LSTM(60, return_sequences=False))\n",
        "model.add(Dense(25))\n",
        "model.add(Dense(1))\n",
        "model.compile(optimizer='adam', loss='mean_squared_error')\n",
        "model.fit(x_train, y_train, batch_size=8, epochs=10)\n",
        "model.summary()"
      ],
      "metadata": {
        "id": "T27hhDVUWAJh",
        "colab": {
          "base_uri": "https://localhost:8080/"
        },
        "outputId": "2fb5e643-e3cc-468a-e488-ef38b8c79bc1"
      },
      "execution_count": 73,
      "outputs": [
        {
          "output_type": "stream",
          "name": "stdout",
          "text": [
            "Epoch 1/10\n",
            "98/98 [==============================] - 7s 23ms/step - loss: 1.6797e-04\n",
            "Epoch 2/10\n",
            "98/98 [==============================] - 3s 26ms/step - loss: 4.5582e-05\n",
            "Epoch 3/10\n",
            "98/98 [==============================] - 2s 20ms/step - loss: 5.3592e-05\n",
            "Epoch 4/10\n",
            "98/98 [==============================] - 2s 19ms/step - loss: 4.7164e-05\n",
            "Epoch 5/10\n",
            "98/98 [==============================] - 2s 20ms/step - loss: 4.5702e-05\n",
            "Epoch 6/10\n",
            "98/98 [==============================] - 2s 21ms/step - loss: 3.8405e-05\n",
            "Epoch 7/10\n",
            "98/98 [==============================] - 3s 28ms/step - loss: 3.5659e-05\n",
            "Epoch 8/10\n",
            "98/98 [==============================] - 2s 22ms/step - loss: 3.3305e-05\n",
            "Epoch 9/10\n",
            "98/98 [==============================] - 2s 19ms/step - loss: 3.8145e-05\n",
            "Epoch 10/10\n",
            "98/98 [==============================] - 2s 20ms/step - loss: 3.1687e-05\n",
            "Model: \"sequential_6\"\n",
            "_________________________________________________________________\n",
            " Layer (type)                Output Shape              Param #   \n",
            "=================================================================\n",
            " lstm_9 (LSTM)               (None, 60)                14880     \n",
            "                                                                 \n",
            " dense_12 (Dense)            (None, 25)                1525      \n",
            "                                                                 \n",
            " dense_13 (Dense)            (None, 1)                 26        \n",
            "                                                                 \n",
            "=================================================================\n",
            "Total params: 16431 (64.18 KB)\n",
            "Trainable params: 16431 (64.18 KB)\n",
            "Non-trainable params: 0 (0.00 Byte)\n",
            "_________________________________________________________________\n"
          ]
        }
      ]
    },
    {
      "cell_type": "code",
      "source": [
        "test_data = scaled_data[train_len-num_of_days:, :]\n",
        "x_test = []\n",
        "y_test = data[train_len:, :]\n",
        "for i in range(num_of_days, len(test_data)):\n",
        "  x_test.append(test_data[i-num_of_days:i, 0])\n",
        "x_test = np.array(x_test)\n",
        "x_test = np.reshape(x_test, (x_test.shape[0], x_test.shape[1], 1))\n"
      ],
      "metadata": {
        "id": "YJiZzeAmXP1E"
      },
      "execution_count": 39,
      "outputs": []
    },
    {
      "cell_type": "code",
      "source": [
        "#  predicted price values\n",
        "predictions_2 = model.predict(x_test)\n",
        "predictions_2 = scaler.inverse_transform(predictions_2)\n",
        "# rmse error\n",
        "rmse = np.sqrt(np.mean(predictions_2 - y_test)**2)\n",
        "rmse"
      ],
      "metadata": {
        "colab": {
          "base_uri": "https://localhost:8080/"
        },
        "id": "Zl219qWeXar4",
        "outputId": "b6acba83-ce4b-4b1c-945e-a7156d070780"
      },
      "execution_count": 74,
      "outputs": [
        {
          "output_type": "stream",
          "name": "stdout",
          "text": [
            "7/7 [==============================] - 1s 14ms/step\n"
          ]
        },
        {
          "output_type": "execute_result",
          "data": {
            "text/plain": [
              "0.27230367887587775"
            ]
          },
          "metadata": {},
          "execution_count": 74
        }
      ]
    },
    {
      "cell_type": "code",
      "source": [
        "train = close_data[:train_len]\n",
        "valid = close_data[train_len:].copy()\n",
        "valid['Predictions'] = predictions_2\n",
        "plt.figure(figsize=(16,8))\n",
        "plt.title('Model')\n",
        "plt.xlabel('Date', fontsize=18)\n",
        "plt.ylabel('Closing price USD ($)', fontsize=18)\n",
        "plt.plot(train['Close'])\n",
        "plt.plot(valid[['Close', 'Predictions']])\n",
        "plt.legend(['Train', 'Val', 'Predictions'], fontsize=12)\n",
        "plt.grid(True)\n",
        "plt.show()"
      ],
      "metadata": {
        "colab": {
          "base_uri": "https://localhost:8080/",
          "height": 728
        },
        "id": "sBosWJpPXeEB",
        "outputId": "e29e73a4-7e52-4ea1-b56a-cd8cbeefa085"
      },
      "execution_count": 75,
      "outputs": [
        {
          "output_type": "display_data",
          "data": {
            "text/plain": [
              "<Figure size 1600x800 with 1 Axes>"
            ],
            "image/png": "[encoded data removed]"
          },
          "metadata": {}
        }
      ]
    },
    {
      "cell_type": "code",
      "source": [],
      "metadata": {
        "id": "_z1xMiTfYUDj"
      },
      "execution_count": null,
      "outputs": []
    },
    {
      "cell_type": "markdown",
      "source": [
        "##Third model\n",
        "\n",
        "###Sequential Model:\n",
        "\n",
        "Sequential data processing: The model processes sequential data, such as time series or sequences of text.\n",
        "\n",
        "###Three LSTM Layers with 50 units:\n",
        "Type: Long Short-Term Memory (LSTM) layer\n",
        "Units: 50\n",
        "Output: Returns sequential data (because return_sequences=True)\n",
        "This layer captures complex temporal dependencies in the input data.\n",
        "\n",
        "###Dense Layer with 25 units:\n",
        "Type: Fully connected Dense layer\n",
        "Units: 25\n",
        "Output: Non-sequential data\n",
        "This layer introduces additional complexity and abstraction to the features extracted by the LSTM layer.\n",
        "\n",
        "###Dense Output Layer with 1 unit:\n",
        "Type: Fully connected Dense layer\n",
        "Units: 1\n",
        "Output: Non-sequential data\n",
        "This layer produces the final output."
      ],
      "metadata": {
        "id": "65O0JrjRd2TN"
      }
    },
    {
      "cell_type": "code",
      "source": [
        "# Build LSTM model\n",
        "model = Sequential()\n",
        "model.add(LSTM(50, return_sequences=True, input_shape=(x_train.shape[1], 1)))\n",
        "model.add(LSTM(50, return_sequences=True, input_shape=(x_train.shape[1], 1)))\n",
        "model.add(LSTM(50, return_sequences=False))\n",
        "model.add(Dense(25))\n",
        "model.add(Dense(1))\n",
        "model.summary()"
      ],
      "metadata": {
        "colab": {
          "base_uri": "https://localhost:8080/"
        },
        "id": "Y8NU-VIFd4NE",
        "outputId": "19a1cc9c-b3bf-4047-969d-3644bbadfc8f"
      },
      "execution_count": 76,
      "outputs": [
        {
          "output_type": "stream",
          "name": "stdout",
          "text": [
            "Model: \"sequential_7\"\n",
            "_________________________________________________________________\n",
            " Layer (type)                Output Shape              Param #   \n",
            "=================================================================\n",
            " lstm_10 (LSTM)              (None, 60, 50)            10400     \n",
            "                                                                 \n",
            " lstm_11 (LSTM)              (None, 60, 50)            20200     \n",
            "                                                                 \n",
            " lstm_12 (LSTM)              (None, 50)                20200     \n",
            "                                                                 \n",
            " dense_14 (Dense)            (None, 25)                1275      \n",
            "                                                                 \n",
            " dense_15 (Dense)            (None, 1)                 26        \n",
            "                                                                 \n",
            "=================================================================\n",
            "Total params: 52101 (203.52 KB)\n",
            "Trainable params: 52101 (203.52 KB)\n",
            "Non-trainable params: 0 (0.00 Byte)\n",
            "_________________________________________________________________\n"
          ]
        }
      ]
    },
    {
      "cell_type": "code",
      "source": [
        "model.compile(optimizer='adam', loss='mean_squared_error')\n",
        "model.fit(x_train, y_train, batch_size=8, epochs=10)"
      ],
      "metadata": {
        "colab": {
          "base_uri": "https://localhost:8080/"
        },
        "id": "ozSAlru1d-BQ",
        "outputId": "3ad74fea-c080-4806-caf3-63ceca319297"
      },
      "execution_count": 77,
      "outputs": [
        {
          "output_type": "stream",
          "name": "stdout",
          "text": [
            "Epoch 1/10\n",
            "98/98 [==============================] - 14s 69ms/step - loss: 3.1158e-04\n",
            "Epoch 2/10\n",
            "98/98 [==============================] - 6s 59ms/step - loss: 1.2143e-04\n",
            "Epoch 3/10\n",
            "98/98 [==============================] - 7s 70ms/step - loss: 1.2071e-04\n",
            "Epoch 4/10\n",
            "98/98 [==============================] - 6s 61ms/step - loss: 9.6639e-05\n",
            "Epoch 5/10\n",
            "98/98 [==============================] - 7s 69ms/step - loss: 8.6230e-05\n",
            "Epoch 6/10\n",
            "98/98 [==============================] - 6s 60ms/step - loss: 8.1721e-05\n",
            "Epoch 7/10\n",
            "98/98 [==============================] - 7s 69ms/step - loss: 7.9881e-05\n",
            "Epoch 8/10\n",
            "98/98 [==============================] - 6s 60ms/step - loss: 8.4186e-05\n",
            "Epoch 9/10\n",
            "98/98 [==============================] - 7s 70ms/step - loss: 7.7269e-05\n",
            "Epoch 10/10\n",
            "98/98 [==============================] - 6s 60ms/step - loss: 7.3422e-05\n"
          ]
        },
        {
          "output_type": "execute_result",
          "data": {
            "text/plain": [
              "<keras.src.callbacks.History at 0x7bee83659480>"
            ]
          },
          "metadata": {},
          "execution_count": 77
        }
      ]
    },
    {
      "cell_type": "code",
      "source": [
        "test_data = scaled_data[train_len-num_of_days:, :]\n",
        "x_test = []\n",
        "y_test = data[train_len:, :]\n",
        "for i in range(num_of_days, len(test_data)):\n",
        "  x_test.append(test_data[i-num_of_days:i, 0])\n",
        "x_test = np.array(x_test)\n",
        "x_test = np.reshape(x_test, (x_test.shape[0], x_test.shape[1], 1))\n",
        "\n",
        "#  predicted price values\n",
        "predictions_2 = model.predict(x_test)\n",
        "predictions_2 = scaler.inverse_transform(predictions_2)\n",
        "# rmse error\n",
        "rmse = np.sqrt(np.mean(predictions_2 - y_test)**2)\n",
        "rmse"
      ],
      "metadata": {
        "colab": {
          "base_uri": "https://localhost:8080/"
        },
        "id": "NdzeTPJpeEKP",
        "outputId": "0f30343d-6ae3-4977-f192-dbfa12e6ed06"
      },
      "execution_count": 79,
      "outputs": [
        {
          "output_type": "stream",
          "name": "stdout",
          "text": [
            "7/7 [==============================] - 2s 25ms/step\n"
          ]
        },
        {
          "output_type": "execute_result",
          "data": {
            "text/plain": [
              "0.431751104763576"
            ]
          },
          "metadata": {},
          "execution_count": 79
        }
      ]
    },
    {
      "cell_type": "code",
      "source": [
        "train = close_data[:train_len]\n",
        "valid = close_data[train_len:].copy()\n",
        "valid['Predictions'] = predictions_2\n",
        "plt.figure(figsize=(16,8))\n",
        "plt.title('Model')\n",
        "plt.xlabel('Date', fontsize=18)\n",
        "plt.ylabel('Closing price USD ($)', fontsize=18)\n",
        "plt.plot(train['Close'])\n",
        "plt.plot(valid[['Close', 'Predictions']])\n",
        "plt.legend(['Train', 'Val', 'Predictions'], fontsize=12)\n",
        "plt.grid(True)\n",
        "plt.show()"
      ],
      "metadata": {
        "colab": {
          "base_uri": "https://localhost:8080/",
          "height": 728
        },
        "id": "Y9fgsisXeeBK",
        "outputId": "32de05ef-3580-47ec-b354-a2393552e72c"
      },
      "execution_count": 80,
      "outputs": [
        {
          "output_type": "display_data",
          "data": {
            "text/plain": [
              "<Figure size 1600x800 with 1 Axes>"
            ],
            "image/png": "[encoded data removed]"
          },
          "metadata": {}
        }
      ]
    },
    {
      "cell_type": "code",
      "source": [],
      "metadata": {
        "id": "NwBq4UtIeid5"
      },
      "execution_count": null,
      "outputs": []
    }
  ]
}